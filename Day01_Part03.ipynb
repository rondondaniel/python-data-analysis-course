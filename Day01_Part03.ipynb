{
 "cells": [
  {
   "cell_type": "markdown",
   "id": "bc9986e8-b478-4a14-953a-b9451c89303e",
   "metadata": {},
   "source": [
    "# Data Analysis Jour 01 Partie 03\n",
    "## Introduction\n",
    "Ce notebook est une introduction à l'analyse de données avec Python. Nous allons explorer un jeu de données sur les performances des étudiants.\n",
    "\n",
    "### Prérequis\n",
    "- Python 3.12.0\n",
    "- Bibliothèque pandas pour l'analyse de données\n",
    "\n",
    "### Objectifs\n",
    "- Importer et visualiser les données\n",
    "- Analyse descriptive pour les variables qualitatives\n",
    "- Réaliser l'analyse utilisant les bases du regroupement"
   ]
  },
  {
   "cell_type": "markdown",
   "id": "4706cb75",
   "metadata": {},
   "source": [
    "## Installation des dépendances\n",
    "Exécuter cette cellule pour installer la bibliothèque tabulate nécessaire pour l'affichage des données."
   ]
  },
  {
   "cell_type": "code",
   "execution_count": null,
   "id": "d788332c-c9ee-4996-a994-e8edfb15dd1c",
   "metadata": {},
   "outputs": [],
   "source": [
    "!pip install pandas matplotlib"
   ]
  },
  {
   "cell_type": "markdown",
   "id": "dfd3c7dc",
   "metadata": {},
   "source": [
    "### Importation des bibliothèques\n",
    "Exécuter cette cellule pour importer les bibliothèques nécessaires."
   ]
  },
  {
   "cell_type": "code",
   "execution_count": 2,
   "id": "83d94083-3cda-40df-81ee-0c750743519a",
   "metadata": {},
   "outputs": [],
   "source": [
    "import pandas as pd\n",
    "import numpy as np\n",
    "import matplotlib.pyplot as plt"
   ]
  },
  {
   "cell_type": "markdown",
   "id": "1f75a966",
   "metadata": {},
   "source": [
    "## Les données\n",
    "Cette cellule définit le chemin vers le fichier CSV contenant les données des étudiants."
   ]
  },
  {
   "cell_type": "code",
   "execution_count": 3,
   "id": "81920765-be29-4a15-8075-a12aa9845be0",
   "metadata": {},
   "outputs": [],
   "source": [
    "file = \"StudentsPerformance.csv\""
   ]
  },
  {
   "cell_type": "markdown",
   "id": "a1b31f55",
   "metadata": {},
   "source": [
    "### Importation et stockage des données\n",
    "Charger les données dans un DataFrame"
   ]
  },
  {
   "cell_type": "code",
   "execution_count": 4,
   "id": "a50320b5-8b12-4878-93f8-d42048472328",
   "metadata": {},
   "outputs": [],
   "source": [
    "data = pd.read_csv(file)"
   ]
  },
  {
   "cell_type": "markdown",
   "id": "9c55949c",
   "metadata": {},
   "source": [
    "### Affichage des données\n",
    "Exécuter cette cellule pour afficher les 5 premières lignes des données importées."
   ]
  },
  {
   "cell_type": "code",
   "execution_count": null,
   "id": "9edb2ccd-0273-4775-ad03-b2733c5ac91c",
   "metadata": {},
   "outputs": [],
   "source": [
    "data.head(5)"
   ]
  },
  {
   "cell_type": "markdown",
   "id": "c865debc",
   "metadata": {},
   "source": [
    "### Description des données\n",
    "Exécuter cette cellule pour selectionner et afficher les variables qualitatives"
   ]
  },
  {
   "cell_type": "code",
   "execution_count": null,
   "id": "a5de5bef",
   "metadata": {},
   "outputs": [],
   "source": [
    "# Statistiques descriptives\n",
    "data_q = data.select_dtypes(include='O')\n",
    "data_q"
   ]
  },
  {
   "cell_type": "markdown",
   "id": "d41032c0-b94d-4b4a-911e-c0cdb8b2ce4c",
   "metadata": {},
   "source": [
    "## Values Count"
   ]
  },
  {
   "cell_type": "markdown",
   "id": "4bd75def-5122-428b-89e4-2604e79f421a",
   "metadata": {},
   "source": [
    "Visualiser très rapidement les modalités d'une variable qualitative : parents_education"
   ]
  },
  {
   "cell_type": "code",
   "execution_count": null,
   "id": "1187cc79-de5e-48dd-9cca-d6c4218d3109",
   "metadata": {},
   "outputs": [],
   "source": [
    "data_q['parents_education'].value_counts()"
   ]
  },
  {
   "cell_type": "markdown",
   "id": "cdbef0f1-cbda-4da8-84f1-546a16807996",
   "metadata": {},
   "source": [
    "et avec normalisation ?"
   ]
  },
  {
   "cell_type": "code",
   "execution_count": null,
   "id": "1bd00f41-af75-4a90-880e-5bfb1a7457a6",
   "metadata": {},
   "outputs": [],
   "source": [
    "data_q['parents_education'].value_counts(normalize=True)"
   ]
  },
  {
   "cell_type": "markdown",
   "id": "bd8916e5-9107-4f30-8993-2324ec5f9bb1",
   "metadata": {},
   "source": [
    "## Mode"
   ]
  },
  {
   "cell_type": "markdown",
   "id": "350f02f2-66a6-4cc6-ac4d-ad1fed6e29ff",
   "metadata": {},
   "source": [
    "Utiliser la méthode mode pour récupérer la modalité la plus fréquente de parents_education"
   ]
  },
  {
   "cell_type": "code",
   "execution_count": null,
   "id": "e2ebddbd-ff02-4eb4-914c-0b60f7c0c000",
   "metadata": {},
   "outputs": [],
   "source": [
    "data_q['parents_education'].mode()"
   ]
  },
  {
   "cell_type": "markdown",
   "id": "7e2a59ea-31f1-495e-89e7-e5e15b7439f9",
   "metadata": {},
   "source": [
    "## Bases du regroupement"
   ]
  },
  {
   "cell_type": "markdown",
   "id": "d7023052-36aa-422a-bc38-519c0c591e56",
   "metadata": {},
   "source": [
    "Montrer les valeurs uniques pour parents_education"
   ]
  },
  {
   "cell_type": "code",
   "execution_count": null,
   "id": "acf0a1e5-8fb5-48af-ba41-e8df6db13dd4",
   "metadata": {},
   "outputs": [],
   "source": [
    "data_q['parents_education'].unique()"
   ]
  },
  {
   "cell_type": "markdown",
   "id": "781128f6-1f50-445c-92a2-5eba9dc19069",
   "metadata": {},
   "source": [
    "Caluler la moyenne de notes et puis grouper les avec parents_education en calculant la moyenne des 'mean_score', stocker les résultats dans un nouveau DataFrame parents_scores"
   ]
  },
  {
   "cell_type": "code",
   "execution_count": 21,
   "id": "ed3be65e-c24d-475c-b7e2-c7e75c65e8d8",
   "metadata": {},
   "outputs": [],
   "source": [
    "data['mean_score'] = data[['math_score', 'reading_score', 'writing_score']].mean(axis=1)"
   ]
  },
  {
   "cell_type": "code",
   "execution_count": null,
   "id": "2e686f74-a29e-4447-b12b-eeae86c98212",
   "metadata": {},
   "outputs": [],
   "source": [
    "parents_scores = data[['parents_education', 'mean_score']]\n",
    "parents_scores = parents_scores.groupby(['parents_education'], as_index=False).mean()\n",
    "parents_scores"
   ]
  },
  {
   "cell_type": "markdown",
   "id": "765e6cd4-4475-4d23-bd2b-653d41f60b82",
   "metadata": {},
   "source": [
    "Re-faire avec parents_education, test_prep_course et mean_score, stocker les résultats dans un nouveau DataFrame parents_prep_scores"
   ]
  },
  {
   "cell_type": "code",
   "execution_count": null,
   "id": "79ebcbdf-dfe6-41fa-a403-291d3247d0e5",
   "metadata": {},
   "outputs": [],
   "source": [
    "parents_prep_scores = data[['parents_education', 'test_prep_course', 'mean_score']]\n",
    "parents_prep_scores = parents_prep_scores.groupby(['parents_education', 'test_prep_course'], as_index=False).mean()\n",
    "parents_prep_scores"
   ]
  },
  {
   "cell_type": "markdown",
   "id": "dddd7c03-e6e6-4ad5-a63f-a699ec70b91f",
   "metadata": {},
   "source": [
    "Calculer les Min et Max de parents_prep_scores"
   ]
  },
  {
   "cell_type": "code",
   "execution_count": null,
   "id": "244590b7-0aef-4eb2-b850-65fbdaf57c50",
   "metadata": {},
   "outputs": [],
   "source": [
    "parents_prep_scores = data[['parents_education', 'test_prep_course', 'mean_score']]\n",
    "parents_prep_scores_min = parents_prep_scores.groupby(['parents_education', 'test_prep_course'], as_index=False).min()\n",
    "parents_prep_scores_min"
   ]
  },
  {
   "cell_type": "code",
   "execution_count": null,
   "id": "bfb70fc6-73a5-4e91-afcc-5c8653b975c8",
   "metadata": {},
   "outputs": [],
   "source": [
    "parents_prep_scores = data[['parents_education', 'test_prep_course', 'mean_score']]\n",
    "parents_prep_scores_max = parents_prep_scores.groupby(['parents_education', 'test_prep_course'], as_index=False).max()\n",
    "parents_prep_scores_max"
   ]
  },
  {
   "cell_type": "code",
   "execution_count": null,
   "id": "ae1c3187-01b4-488d-927d-1617abf2d61e",
   "metadata": {},
   "outputs": [],
   "source": []
  }
 ],
 "metadata": {
  "kernelspec": {
   "display_name": "data_analysis",
   "language": "python",
   "name": "data_analysis"
  },
  "language_info": {
   "codemirror_mode": {
    "name": "ipython",
    "version": 3
   },
   "file_extension": ".py",
   "mimetype": "text/x-python",
   "name": "python",
   "nbconvert_exporter": "python",
   "pygments_lexer": "ipython3",
   "version": "3.12.0"
  }
 },
 "nbformat": 4,
 "nbformat_minor": 5
}
