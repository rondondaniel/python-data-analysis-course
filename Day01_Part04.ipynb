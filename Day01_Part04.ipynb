{
 "cells": [
  {
   "attachments": {},
   "cell_type": "markdown",
   "id": "bc9986e8-b478-4a14-953a-b9451c89303e",
   "metadata": {},
   "source": [
    "# Data Analysis Jour 01 Partie 04\n",
    "## Introduction\n",
    "Ce notebook est une introduction à l'analyse de données avec Python. Nous allons explorer un jeu de données sur les performances des étudiants.\n",
    "\n",
    "### Prérequis\n",
    "- Python 3.12.0\n",
    "- Python 3.12.0\n",
    "- Bibliothèque pandas pour l'analyse de données\n",
    "- Bibliothèque matplotlib pour la visualisation\n",
    "- Bibliothèque scipy pour les stats\n",
    "\n",
    "### Objectifs\n",
    "- Importer et visualiser les données\n",
    "- Corrélation de Pearson\n",
    "- P-Value\n",
    "- Tables de contingence\n",
    "- ANOVA"
   ]
  },
  {
   "cell_type": "markdown",
   "id": "4706cb75",
   "metadata": {},
   "source": [
    "## Installation des dépendances\n",
    "Exécuter cette cellule pour installer la bibliothèque tabulate nécessaire pour l'affichage des données."
   ]
  },
  {
   "cell_type": "code",
   "execution_count": null,
   "id": "d788332c-c9ee-4996-a994-e8edfb15dd1c",
   "metadata": {},
   "outputs": [],
   "source": [
    "!pip install pandas matplotlib scipy"
   ]
  },
  {
   "cell_type": "markdown",
   "id": "dfd3c7dc",
   "metadata": {},
   "source": [
    "### Importation des bibliothèques\n",
    "Exécuter cette cellule pour importer les bibliothèques nécessaires."
   ]
  },
  {
   "cell_type": "code",
   "execution_count": 1,
   "id": "83d94083-3cda-40df-81ee-0c750743519a",
   "metadata": {},
   "outputs": [],
   "source": [
    "import pandas as pd\n",
    "import numpy as np\n",
    "from scipy import stats\n",
    "import matplotlib.pyplot as plt"
   ]
  },
  {
   "cell_type": "markdown",
   "id": "1f75a966",
   "metadata": {},
   "source": [
    "## Les données\n",
    "Cette cellule définit le chemin vers le fichier CSV contenant les données des étudiants."
   ]
  },
  {
   "cell_type": "code",
   "execution_count": 3,
   "id": "81920765-be29-4a15-8075-a12aa9845be0",
   "metadata": {},
   "outputs": [],
   "source": [
    "file = \"StudentsPerformance.csv\""
   ]
  },
  {
   "cell_type": "markdown",
   "id": "a1b31f55",
   "metadata": {},
   "source": [
    "### Importation et stockage des données\n",
    "Charger les données dans un DataFrame"
   ]
  },
  {
   "cell_type": "code",
   "execution_count": 4,
   "id": "a50320b5-8b12-4878-93f8-d42048472328",
   "metadata": {},
   "outputs": [],
   "source": [
    "data = pd.read_csv(file)"
   ]
  },
  {
   "cell_type": "markdown",
   "id": "9c55949c",
   "metadata": {},
   "source": [
    "### Affichage des données\n",
    "Exécuter cette cellule pour afficher les 5 premières lignes des données importées."
   ]
  },
  {
   "cell_type": "code",
   "execution_count": 5,
   "id": "9edb2ccd-0273-4775-ad03-b2733c5ac91c",
   "metadata": {},
   "outputs": [
    {
     "data": {
      "text/html": [
       "<div>\n",
       "<style scoped>\n",
       "    .dataframe tbody tr th:only-of-type {\n",
       "        vertical-align: middle;\n",
       "    }\n",
       "\n",
       "    .dataframe tbody tr th {\n",
       "        vertical-align: top;\n",
       "    }\n",
       "\n",
       "    .dataframe thead th {\n",
       "        text-align: right;\n",
       "    }\n",
       "</style>\n",
       "<table border=\"1\" class=\"dataframe\">\n",
       "  <thead>\n",
       "    <tr style=\"text-align: right;\">\n",
       "      <th></th>\n",
       "      <th>gender</th>\n",
       "      <th>race/ethnicity</th>\n",
       "      <th>parents_education</th>\n",
       "      <th>lunch</th>\n",
       "      <th>test_prep_course</th>\n",
       "      <th>math_score</th>\n",
       "      <th>reading_score</th>\n",
       "      <th>writing_score</th>\n",
       "    </tr>\n",
       "  </thead>\n",
       "  <tbody>\n",
       "    <tr>\n",
       "      <th>0</th>\n",
       "      <td>female</td>\n",
       "      <td>group B</td>\n",
       "      <td>bachelor's degree</td>\n",
       "      <td>standard</td>\n",
       "      <td>none</td>\n",
       "      <td>72</td>\n",
       "      <td>72</td>\n",
       "      <td>74</td>\n",
       "    </tr>\n",
       "    <tr>\n",
       "      <th>1</th>\n",
       "      <td>female</td>\n",
       "      <td>group C</td>\n",
       "      <td>some college</td>\n",
       "      <td>standard</td>\n",
       "      <td>completed</td>\n",
       "      <td>69</td>\n",
       "      <td>90</td>\n",
       "      <td>88</td>\n",
       "    </tr>\n",
       "    <tr>\n",
       "      <th>2</th>\n",
       "      <td>female</td>\n",
       "      <td>group B</td>\n",
       "      <td>master's degree</td>\n",
       "      <td>standard</td>\n",
       "      <td>none</td>\n",
       "      <td>90</td>\n",
       "      <td>95</td>\n",
       "      <td>93</td>\n",
       "    </tr>\n",
       "    <tr>\n",
       "      <th>3</th>\n",
       "      <td>male</td>\n",
       "      <td>group A</td>\n",
       "      <td>associate's degree</td>\n",
       "      <td>free/reduced</td>\n",
       "      <td>none</td>\n",
       "      <td>47</td>\n",
       "      <td>57</td>\n",
       "      <td>44</td>\n",
       "    </tr>\n",
       "    <tr>\n",
       "      <th>4</th>\n",
       "      <td>male</td>\n",
       "      <td>group C</td>\n",
       "      <td>some college</td>\n",
       "      <td>standard</td>\n",
       "      <td>none</td>\n",
       "      <td>76</td>\n",
       "      <td>78</td>\n",
       "      <td>75</td>\n",
       "    </tr>\n",
       "  </tbody>\n",
       "</table>\n",
       "</div>"
      ],
      "text/plain": [
       "   gender race/ethnicity   parents_education         lunch test_prep_course  \\\n",
       "0  female        group B   bachelor's degree      standard             none   \n",
       "1  female        group C        some college      standard        completed   \n",
       "2  female        group B     master's degree      standard             none   \n",
       "3    male        group A  associate's degree  free/reduced             none   \n",
       "4    male        group C        some college      standard             none   \n",
       "\n",
       "   math_score  reading_score  writing_score  \n",
       "0          72             72             74  \n",
       "1          69             90             88  \n",
       "2          90             95             93  \n",
       "3          47             57             44  \n",
       "4          76             78             75  "
      ]
     },
     "execution_count": 5,
     "metadata": {},
     "output_type": "execute_result"
    }
   ],
   "source": [
    "data.head(5)"
   ]
  },
  {
   "cell_type": "markdown",
   "id": "ffbd172f-37b2-4038-acc9-745835a6becb",
   "metadata": {},
   "source": [
    "## Mean_score"
   ]
  },
  {
   "cell_type": "markdown",
   "id": "1500304c-e178-434b-9c3b-a70851b25413",
   "metadata": {},
   "source": [
    "Caluler la moyenne de notes et puis grouper les avec parents_education en calculant la moyenne des 'mean_score', stocker les résultats dans un nouveau DataFrame parents_scores"
   ]
  },
  {
   "cell_type": "code",
   "execution_count": 27,
   "id": "8e590ea6-ac9a-415a-bc11-60d3c6038e3d",
   "metadata": {},
   "outputs": [
    {
     "data": {
      "text/html": [
       "<div>\n",
       "<style scoped>\n",
       "    .dataframe tbody tr th:only-of-type {\n",
       "        vertical-align: middle;\n",
       "    }\n",
       "\n",
       "    .dataframe tbody tr th {\n",
       "        vertical-align: top;\n",
       "    }\n",
       "\n",
       "    .dataframe thead th {\n",
       "        text-align: right;\n",
       "    }\n",
       "</style>\n",
       "<table border=\"1\" class=\"dataframe\">\n",
       "  <thead>\n",
       "    <tr style=\"text-align: right;\">\n",
       "      <th></th>\n",
       "      <th>gender</th>\n",
       "      <th>race/ethnicity</th>\n",
       "      <th>parents_education</th>\n",
       "      <th>lunch</th>\n",
       "      <th>test_prep_course</th>\n",
       "      <th>math_score</th>\n",
       "      <th>reading_score</th>\n",
       "      <th>writing_score</th>\n",
       "      <th>mean_score</th>\n",
       "    </tr>\n",
       "  </thead>\n",
       "  <tbody>\n",
       "    <tr>\n",
       "      <th>0</th>\n",
       "      <td>female</td>\n",
       "      <td>group B</td>\n",
       "      <td>bachelor's degree</td>\n",
       "      <td>standard</td>\n",
       "      <td>none</td>\n",
       "      <td>72</td>\n",
       "      <td>72</td>\n",
       "      <td>74</td>\n",
       "      <td>72.666667</td>\n",
       "    </tr>\n",
       "    <tr>\n",
       "      <th>1</th>\n",
       "      <td>female</td>\n",
       "      <td>group C</td>\n",
       "      <td>some college</td>\n",
       "      <td>standard</td>\n",
       "      <td>completed</td>\n",
       "      <td>69</td>\n",
       "      <td>90</td>\n",
       "      <td>88</td>\n",
       "      <td>82.333333</td>\n",
       "    </tr>\n",
       "    <tr>\n",
       "      <th>2</th>\n",
       "      <td>female</td>\n",
       "      <td>group B</td>\n",
       "      <td>master's degree</td>\n",
       "      <td>standard</td>\n",
       "      <td>none</td>\n",
       "      <td>90</td>\n",
       "      <td>95</td>\n",
       "      <td>93</td>\n",
       "      <td>92.666667</td>\n",
       "    </tr>\n",
       "    <tr>\n",
       "      <th>3</th>\n",
       "      <td>male</td>\n",
       "      <td>group A</td>\n",
       "      <td>associate's degree</td>\n",
       "      <td>free/reduced</td>\n",
       "      <td>none</td>\n",
       "      <td>47</td>\n",
       "      <td>57</td>\n",
       "      <td>44</td>\n",
       "      <td>49.333333</td>\n",
       "    </tr>\n",
       "    <tr>\n",
       "      <th>4</th>\n",
       "      <td>male</td>\n",
       "      <td>group C</td>\n",
       "      <td>some college</td>\n",
       "      <td>standard</td>\n",
       "      <td>none</td>\n",
       "      <td>76</td>\n",
       "      <td>78</td>\n",
       "      <td>75</td>\n",
       "      <td>76.333333</td>\n",
       "    </tr>\n",
       "  </tbody>\n",
       "</table>\n",
       "</div>"
      ],
      "text/plain": [
       "   gender race/ethnicity   parents_education         lunch test_prep_course  \\\n",
       "0  female        group B   bachelor's degree      standard             none   \n",
       "1  female        group C        some college      standard        completed   \n",
       "2  female        group B     master's degree      standard             none   \n",
       "3    male        group A  associate's degree  free/reduced             none   \n",
       "4    male        group C        some college      standard             none   \n",
       "\n",
       "   math_score  reading_score  writing_score  mean_score  \n",
       "0          72             72             74   72.666667  \n",
       "1          69             90             88   82.333333  \n",
       "2          90             95             93   92.666667  \n",
       "3          47             57             44   49.333333  \n",
       "4          76             78             75   76.333333  "
      ]
     },
     "execution_count": 27,
     "metadata": {},
     "output_type": "execute_result"
    }
   ],
   "source": [
    "data['mean_score'] = data[['math_score', 'reading_score', 'writing_score']].mean(axis=1)\n",
    "data.head(5)"
   ]
  },
  {
   "cell_type": "markdown",
   "id": "c865debc",
   "metadata": {},
   "source": [
    "### Corrélation de Pearson et P-Value\n",
    "Exécuter la Corrélation de Pearson sur toutes les données."
   ]
  },
  {
   "cell_type": "code",
   "execution_count": 6,
   "id": "a5de5bef",
   "metadata": {},
   "outputs": [
    {
     "data": {
      "text/html": [
       "<div>\n",
       "<style scoped>\n",
       "    .dataframe tbody tr th:only-of-type {\n",
       "        vertical-align: middle;\n",
       "    }\n",
       "\n",
       "    .dataframe tbody tr th {\n",
       "        vertical-align: top;\n",
       "    }\n",
       "\n",
       "    .dataframe thead th {\n",
       "        text-align: right;\n",
       "    }\n",
       "</style>\n",
       "<table border=\"1\" class=\"dataframe\">\n",
       "  <thead>\n",
       "    <tr style=\"text-align: right;\">\n",
       "      <th></th>\n",
       "      <th>math_score</th>\n",
       "      <th>reading_score</th>\n",
       "      <th>writing_score</th>\n",
       "    </tr>\n",
       "  </thead>\n",
       "  <tbody>\n",
       "    <tr>\n",
       "      <th>math_score</th>\n",
       "      <td>1.000000</td>\n",
       "      <td>0.817580</td>\n",
       "      <td>0.802642</td>\n",
       "    </tr>\n",
       "    <tr>\n",
       "      <th>reading_score</th>\n",
       "      <td>0.817580</td>\n",
       "      <td>1.000000</td>\n",
       "      <td>0.954598</td>\n",
       "    </tr>\n",
       "    <tr>\n",
       "      <th>writing_score</th>\n",
       "      <td>0.802642</td>\n",
       "      <td>0.954598</td>\n",
       "      <td>1.000000</td>\n",
       "    </tr>\n",
       "  </tbody>\n",
       "</table>\n",
       "</div>"
      ],
      "text/plain": [
       "               math_score  reading_score  writing_score\n",
       "math_score       1.000000       0.817580       0.802642\n",
       "reading_score    0.817580       1.000000       0.954598\n",
       "writing_score    0.802642       0.954598       1.000000"
      ]
     },
     "execution_count": 6,
     "metadata": {},
     "output_type": "execute_result"
    }
   ],
   "source": [
    "data.corr(numeric_only=True)"
   ]
  },
  {
   "cell_type": "markdown",
   "id": "56a2d302-05f7-42b6-a285-d9c14445f1c3",
   "metadata": {},
   "source": [
    "Interprète les résultats :\n",
    "<ul>\n",
    "    <li><b>1</b>: Total positive linear correlation.</li>\n",
    "    <li><b>0</b>: No linear correlation, the two variables most likely do not affect each other.</li>\n",
    "    <li><b>-1</b>: Total negative linear correlation.</li>\n",
    "</ul>"
   ]
  },
  {
   "cell_type": "markdown",
   "id": "8337886b-e3b8-47d8-abf6-a605a819df10",
   "metadata": {},
   "source": [
    "Cette fois-ci utilise la lib 'stast' de 'scipy', par exemple : math_score et reading_score"
   ]
  },
  {
   "cell_type": "code",
   "execution_count": 10,
   "id": "3801f46d-776c-45d9-b9c7-213abbd8e430",
   "metadata": {},
   "outputs": [
    {
     "name": "stdout",
     "output_type": "stream",
     "text": [
      "The Pearson Correlation Coefficient is 0.8175796636720541  with a P-value of P = 1.787753109906147e-241\n"
     ]
    }
   ],
   "source": [
    "pearson_coef, p_value = stats.pearsonr(data['math_score'], data['reading_score'])\n",
    "print(\"The Pearson Correlation Coefficient is\", pearson_coef, \" with a P-value of P =\", p_value)  "
   ]
  },
  {
   "cell_type": "markdown",
   "id": "b948c28b-47bf-40ee-8785-67c66af5ae14",
   "metadata": {},
   "source": [
    "Interprète les résultats :\n",
    "<ul>\n",
    "    <li>p-value is $<$ 0.001: we say there is strong evidence that the correlation is significant.</li>\n",
    "    <li>the p-value is $<$ 0.05: there is moderate evidence that the correlation is significant.</li>\n",
    "    <li>the p-value is $<$ 0.1: there is weak evidence that the correlation is significant.</li>\n",
    "    <li>the p-value is $>$ 0.1: there is no evidence that the correlation is significant.</li>\n",
    "</ul>"
   ]
  },
  {
   "cell_type": "markdown",
   "id": "b77a8663-383e-44cd-b5ef-07315e14719d",
   "metadata": {},
   "source": [
    "Vérifier cette relation également graphiquement, en utilisant la lib Pandas"
   ]
  },
  {
   "cell_type": "code",
   "execution_count": 12,
   "id": "26ab2383-b358-4778-8f98-c22ce0887f6b",
   "metadata": {},
   "outputs": [
    {
     "data": {
      "image/png": "[encoded data removed]",
      "text/plain": [
       "<Figure size 640x480 with 1 Axes>"
      ]
     },
     "metadata": {},
     "output_type": "display_data"
    }
   ],
   "source": [
    "from pandas.plotting import scatter_matrix\n",
    "%matplotlib inline\n",
    "data[data['math_score']<100].plot(kind='scatter', x='math_score', y='reading_score', alpha=0.1);"
   ]
  },
  {
   "cell_type": "markdown",
   "id": "c1e5cc52-d6a7-4d0b-ba7b-aaf9b43f40e4",
   "metadata": {},
   "source": [
    "## Table de contingence"
   ]
  },
  {
   "cell_type": "markdown",
   "id": "a1931f74-5f01-40ca-b450-dac1ca066e50",
   "metadata": {},
   "source": [
    "Utiliser la fonction crosstab avec les deux variables parents_education et test_prep_course pour afficher une table de contingence"
   ]
  },
  {
   "cell_type": "code",
   "execution_count": 16,
   "id": "780e5928-75d4-4fb8-8883-c93ed5ffcc9c",
   "metadata": {},
   "outputs": [
    {
     "data": {
      "text/html": [
       "<div>\n",
       "<style scoped>\n",
       "    .dataframe tbody tr th:only-of-type {\n",
       "        vertical-align: middle;\n",
       "    }\n",
       "\n",
       "    .dataframe tbody tr th {\n",
       "        vertical-align: top;\n",
       "    }\n",
       "\n",
       "    .dataframe thead th {\n",
       "        text-align: right;\n",
       "    }\n",
       "</style>\n",
       "<table border=\"1\" class=\"dataframe\">\n",
       "  <thead>\n",
       "    <tr style=\"text-align: right;\">\n",
       "      <th>test_prep_course</th>\n",
       "      <th>completed</th>\n",
       "      <th>none</th>\n",
       "    </tr>\n",
       "    <tr>\n",
       "      <th>parents_education</th>\n",
       "      <th></th>\n",
       "      <th></th>\n",
       "    </tr>\n",
       "  </thead>\n",
       "  <tbody>\n",
       "    <tr>\n",
       "      <th>associate's degree</th>\n",
       "      <td>82</td>\n",
       "      <td>140</td>\n",
       "    </tr>\n",
       "    <tr>\n",
       "      <th>bachelor's degree</th>\n",
       "      <td>46</td>\n",
       "      <td>72</td>\n",
       "    </tr>\n",
       "    <tr>\n",
       "      <th>high school</th>\n",
       "      <td>56</td>\n",
       "      <td>140</td>\n",
       "    </tr>\n",
       "    <tr>\n",
       "      <th>master's degree</th>\n",
       "      <td>20</td>\n",
       "      <td>39</td>\n",
       "    </tr>\n",
       "    <tr>\n",
       "      <th>some college</th>\n",
       "      <td>77</td>\n",
       "      <td>149</td>\n",
       "    </tr>\n",
       "    <tr>\n",
       "      <th>some high school</th>\n",
       "      <td>77</td>\n",
       "      <td>102</td>\n",
       "    </tr>\n",
       "  </tbody>\n",
       "</table>\n",
       "</div>"
      ],
      "text/plain": [
       "test_prep_course    completed  none\n",
       "parents_education                  \n",
       "associate's degree         82   140\n",
       "bachelor's degree          46    72\n",
       "high school                56   140\n",
       "master's degree            20    39\n",
       "some college               77   149\n",
       "some high school           77   102"
      ]
     },
     "execution_count": 16,
     "metadata": {},
     "output_type": "execute_result"
    }
   ],
   "source": [
    "table = pd.crosstab(data['parents_education'],data['test_prep_course'])\n",
    "table"
   ]
  },
  {
   "cell_type": "markdown",
   "id": "1436457e-5a7b-472c-b015-f1c75973b567",
   "metadata": {},
   "source": [
    "### Test du khi2"
   ]
  },
  {
   "cell_type": "markdown",
   "id": "9e1dadb9-17cd-4c89-b153-c682e21cdf39",
   "metadata": {},
   "source": [
    "Réaliser le test du khi2, afin de tester l'hypothère H0H0"
   ]
  },
  {
   "cell_type": "code",
   "execution_count": 43,
   "id": "fdaf3033-b9b7-44e6-b121-c97d305ce3af",
   "metadata": {},
   "outputs": [
    {
     "name": "stdout",
     "output_type": "stream",
     "text": [
      "statistic: 9.54407054307069\n",
      "P-value: 0.08923388625809346\n",
      "Degrees of freedom: 5\n"
     ]
    }
   ],
   "source": [
    "from scipy.stats import chi2_contingency\n",
    "resultats_test = chi2_contingency(table)\n",
    "statistique = resultats_test[0]\n",
    "p_valeur = resultats_test[1]\n",
    "degre_liberte = resultats_test[2]\n",
    "\n",
    "print(f\"statistic: {statistique}\\nP-value: {p_valeur}\\nDegrees of freedom: {degre_liberte}\")\n"
   ]
  },
  {
   "cell_type": "markdown",
   "id": "1566ca86-303b-4f60-9723-3c0e743fbe4b",
   "metadata": {},
   "source": [
    "### V de Cramer"
   ]
  },
  {
   "cell_type": "markdown",
   "id": "dd51ec05-772b-44b6-a36a-bacbd6cf9717",
   "metadata": {},
   "source": [
    "Mesurer le niveau de corrélation entre deux variables qualitatives. Pour cela, utilise le V de Cramer corrigé pour contrer le biais."
   ]
  },
  {
   "cell_type": "markdown",
   "id": "3b290ce2-9002-4d14-b25c-fab61b24921e",
   "metadata": {},
   "source": [
    "Pour rappel, ci-dessous les formules de V de cramer corrigé :"
   ]
  },
  {
   "cell_type": "markdown",
   "id": "a9a99d6d-5935-4d7f-9efe-a5dfce803725",
   "metadata": {},
   "source": [
    "$\\tilde{V} = \\sqrt{\\frac{\\tilde{\\varphi}^2}{\\min(\\tilde{k}-1,\\tilde{r}-1)}\n",
    "}$"
   ]
  },
  {
   "cell_type": "markdown",
   "id": "40983381-c5ca-4259-8100-3b6b7ce1cef5",
   "metadata": {},
   "source": [
    "$\\tilde{\\varphi}^2 = \\max \\left(0, \\varphi^2 - \\frac{(k-1)(r-1)}{n-1}\\right)$"
   ]
  },
  {
   "cell_type": "markdown",
   "id": "6c988397-99cc-4026-a005-d2ed96c4aa9f",
   "metadata": {},
   "source": [
    "$\\tilde{k} = k - \\frac{(k-1)^2}{n-1}$"
   ]
  },
  {
   "cell_type": "markdown",
   "id": "555d7fd6-a27f-456e-8696-8ebb1630ed64",
   "metadata": {},
   "source": [
    "$\\tilde{r} = r - \\frac{(r-1)^2}{n-1}$"
   ]
  },
  {
   "cell_type": "code",
   "execution_count": 23,
   "id": "293cc3fb-323a-4e0c-b74c-2475b12afa99",
   "metadata": {},
   "outputs": [],
   "source": [
    "# Function pour calculer le V de Cramer\n",
    "def V_Cramer(table, N):\n",
    "    stat_chi2 = chi2_contingency(table)[0]\n",
    "    k = table.shape[0]\n",
    "    r = table.shape[1]\n",
    "    phi = max(0,(stat_chi2/N)-((k-1)*(r-1)/(N-1)))\n",
    "    k_corr = k - (np.square(k-1)/(N-1))\n",
    "    r_corr = r - (np.square(r-1)/(N-1))\n",
    "    return float(np.sqrt(phi/min(k_corr - 1,r_corr - 1)))\n"
   ]
  },
  {
   "cell_type": "code",
   "execution_count": 24,
   "id": "c96fd68c-415d-4ca2-97e3-1a33d29f8867",
   "metadata": {},
   "outputs": [
    {
     "data": {
      "text/plain": [
       "0.06740633278800646"
      ]
     },
     "execution_count": 24,
     "metadata": {},
     "output_type": "execute_result"
    }
   ],
   "source": [
    "V_Cramer(table, data.shape[0])"
   ]
  },
  {
   "cell_type": "markdown",
   "id": "9872a5ad-ad64-417c-b5b4-f9851ed99be5",
   "metadata": {},
   "source": [
    "## ANOVA"
   ]
  },
  {
   "cell_type": "markdown",
   "id": "ef1a0eee-75be-4f54-abda-0b70a57a4065",
   "metadata": {},
   "source": [
    "L'analyse de la variance (ANOVA) est une méthode statistique permettant de tester l'existence de différences significatives entre les moyennes de deux groupes ou plus. L'ANOVA renvoie deux paramètres :\n",
    "- F-Score : l'ANOVA suppose que les moyennes de tous les groupes sont identiques, calcule l'écart des moyennes réelles par rapport à l'hypothèse et le rapporte sous la forme d'un score du test F. Plus ce score est élevé, plus l'écart est important. Plus le score est élevé, plus la différence entre les moyennes est importante.\n",
    "\n",
    "- P-Value indique dans quelle mesure la valeur calculée est statistiquement significative."
   ]
  },
  {
   "cell_type": "markdown",
   "id": "9566d120-4100-4437-b0f9-e0ee7595c982",
   "metadata": {},
   "source": [
    "Combien de valeurs uniques on a dans la colonne race/ethnicity ?"
   ]
  },
  {
   "cell_type": "code",
   "execution_count": 51,
   "id": "50b4683f-070e-4df9-a7f4-983208de7f76",
   "metadata": {},
   "outputs": [
    {
     "data": {
      "text/plain": [
       "array(['group B', 'group C', 'group A', 'group D', 'group E'],\n",
       "      dtype=object)"
      ]
     },
     "execution_count": 51,
     "metadata": {},
     "output_type": "execute_result"
    }
   ],
   "source": [
    "data['race/ethnicity'].unique()"
   ]
  },
  {
   "cell_type": "markdown",
   "id": "6fee075f-ae28-4c4a-b84b-a418a066d8a8",
   "metadata": {},
   "source": [
    "Créer un nouveau DataFrame avec uniquement les colonnes 'race/ethnicity' et 'mean_score'. Groupe le DataFrame par race/ethnicity et tu peux obtenir les valeurs du groupe à l'aide de la méthode « get_group »."
   ]
  },
  {
   "cell_type": "code",
   "execution_count": null,
   "id": "7d0fb4c5-ee1e-4fa7-8554-d701f976393c",
   "metadata": {},
   "outputs": [],
   "source": [
    "sub_group = data[['race/ethnicity','mean_score']].groupby(['race/ethnicity'])\n",
    "sub_group.get_group('group B')['mean_score']"
   ]
  },
  {
   "cell_type": "markdown",
   "id": "8b5b8349-defd-4e47-828e-69f78059101c",
   "metadata": {},
   "source": [
    "Tu peux maintenant utiliser la fonction « f_oneway » du module « stats » pour obtenir le score du test F et la valeur P. Par exemple group B, groupe C et group A."
   ]
  },
  {
   "cell_type": "code",
   "execution_count": null,
   "id": "5fae833f-4ece-45e8-9c5b-ccdab86f4489",
   "metadata": {},
   "outputs": [],
   "source": [
    "f_val, p_val = stats.f_oneway(\n",
    "    sub_group.get_group('group B')['mean_score'], \n",
    "    sub_group.get_group('group A')['mean_score'],\n",
    "    sub_group.get_group('group C')['mean_score'],\n",
    ")\n",
    "print( \"ANOVA results: F =\", f_val, \", P =\", p_val)"
   ]
  },
  {
   "cell_type": "markdown",
   "id": "e3614739-1c43-4edd-8723-44dcec5c6fff",
   "metadata": {},
   "source": [
    "Tu peux desormais tester d'autres combinaisons. Par exemple group B, groupe D et group E."
   ]
  },
  {
   "cell_type": "code",
   "execution_count": null,
   "id": "2ca1aaa0-193f-4810-8b83-20a21e8fb2fa",
   "metadata": {},
   "outputs": [],
   "source": [
    "f_val, p_val = stats.f_oneway(\n",
    "    sub_group.get_group('group B')['mean_score'], \n",
    "    sub_group.get_group('group D')['mean_score'],\n",
    "    sub_group.get_group('group E')['mean_score'],\n",
    ")\n",
    "print( \"ANOVA results: F =\", f_val, \", P =\", p_val)"
   ]
  },
  {
   "cell_type": "code",
   "execution_count": null,
   "id": "82e4fefc-d808-45f2-97c4-7b297604ff87",
   "metadata": {},
   "outputs": [],
   "source": []
  }
 ],
 "metadata": {
  "kernelspec": {
   "display_name": "data_analysis",
   "language": "python",
   "name": "data_analysis"
  },
  "language_info": {
   "codemirror_mode": {
    "name": "ipython",
    "version": 3
   },
   "file_extension": ".py",
   "mimetype": "text/x-python",
   "name": "python",
   "nbconvert_exporter": "python",
   "pygments_lexer": "ipython3",
   "version": "3.12.0"
  }
 },
 "nbformat": 4,
 "nbformat_minor": 5
}
