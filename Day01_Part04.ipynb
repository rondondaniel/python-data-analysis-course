{
 "cells": [
  {
   "attachments": {},
   "cell_type": "markdown",
   "id": "bc9986e8-b478-4a14-953a-b9451c89303e",
   "metadata": {},
   "source": [
    "# Data Analysis Jour 01 Partie 04\n",
    "## Introduction\n",
    "Ce notebook est une introduction à l'analyse de données avec Python. Nous allons explorer un jeu de données sur les performances des étudiants.\n",
    "\n",
    "### Prérequis\n",
    "- Python 3.12.0\n",
    "- Bibliothèque pandas pour l'analyse de données\n",
    "- Bibliothèque matplotlib pour la visualisation\n",
    "- Bibliothèque scipy pour les stats\n",
    "\n",
    "### Objectifs\n",
    "- Importer et visualiser les données\n",
    "- Corrélation de Pearson\n",
    "- P-Value\n",
    "- Tables de contingence\n",
    "- ANOVA"
   ]
  },
  {
   "cell_type": "markdown",
   "id": "4706cb75",
   "metadata": {},
   "source": [
    "## Installation des dépendances\n",
    "Exécuter cette cellule pour installer la bibliothèque tabulate nécessaire pour l'affichage des données."
   ]
  },
  {
   "cell_type": "code",
   "execution_count": null,
   "id": "d788332c-c9ee-4996-a994-e8edfb15dd1c",
   "metadata": {},
   "outputs": [],
   "source": [
    "!pip install pandas matplotlib scipy"
   ]
  },
  {
   "cell_type": "markdown",
   "id": "dfd3c7dc",
   "metadata": {},
   "source": [
    "### Importation des bibliothèques\n",
    "Exécuter cette cellule pour importer les bibliothèques nécessaires."
   ]
  },
  {
   "cell_type": "code",
   "execution_count": 1,
   "id": "83d94083-3cda-40df-81ee-0c750743519a",
   "metadata": {},
   "outputs": [],
   "source": [
    "import pandas as pd\n",
    "import numpy as np\n",
    "from scipy import stats\n",
    "import matplotlib.pyplot as plt"
   ]
  },
  {
   "cell_type": "markdown",
   "id": "1f75a966",
   "metadata": {},
   "source": [
    "## Les données\n",
    "Cette cellule définit le chemin vers le fichier CSV contenant les données des étudiants."
   ]
  },
  {
   "cell_type": "code",
   "execution_count": 3,
   "id": "81920765-be29-4a15-8075-a12aa9845be0",
   "metadata": {},
   "outputs": [],
   "source": [
    "file = \"StudentsPerformance.csv\""
   ]
  },
  {
   "cell_type": "markdown",
   "id": "a1b31f55",
   "metadata": {},
   "source": [
    "### Importation et stockage des données\n",
    "Charger les données dans un DataFrame"
   ]
  },
  {
   "cell_type": "code",
   "execution_count": null,
   "id": "a50320b5-8b12-4878-93f8-d42048472328",
   "metadata": {},
   "outputs": [],
   "source": []
  },
  {
   "cell_type": "markdown",
   "id": "9c55949c",
   "metadata": {},
   "source": [
    "### Affichage des données\n",
    "Exécuter cette cellule pour afficher les 5 premières lignes des données importées."
   ]
  },
  {
   "cell_type": "code",
   "execution_count": null,
   "id": "9edb2ccd-0273-4775-ad03-b2733c5ac91c",
   "metadata": {},
   "outputs": [],
   "source": []
  },
  {
   "cell_type": "markdown",
   "id": "ffbd172f-37b2-4038-acc9-745835a6becb",
   "metadata": {},
   "source": [
    "## Mean_score"
   ]
  },
  {
   "cell_type": "markdown",
   "id": "1500304c-e178-434b-9c3b-a70851b25413",
   "metadata": {},
   "source": [
    "Caluler la moyenne de notes et puis grouper les avec parents_education en calculant la moyenne des 'mean_score', stocker les résultats dans un nouveau DataFrame parents_scores"
   ]
  },
  {
   "cell_type": "code",
   "execution_count": null,
   "id": "8e590ea6-ac9a-415a-bc11-60d3c6038e3d",
   "metadata": {},
   "outputs": [],
   "source": []
  },
  {
   "cell_type": "markdown",
   "id": "c865debc",
   "metadata": {},
   "source": [
    "### Corrélation de Pearson et P-Value\n",
    "Exécuter la Corrélation de Pearson sur toutes les données."
   ]
  },
  {
   "cell_type": "code",
   "execution_count": null,
   "id": "a5de5bef",
   "metadata": {},
   "outputs": [],
   "source": []
  },
  {
   "cell_type": "markdown",
   "id": "56a2d302-05f7-42b6-a285-d9c14445f1c3",
   "metadata": {},
   "source": [
    "Interprète les résultats :\n",
    "<ul>\n",
    "    <li><b>1</b>: Total positive linear correlation.</li>\n",
    "    <li><b>0</b>: No linear correlation, the two variables most likely do not affect each other.</li>\n",
    "    <li><b>-1</b>: Total negative linear correlation.</li>\n",
    "</ul>"
   ]
  },
  {
   "cell_type": "markdown",
   "id": "8337886b-e3b8-47d8-abf6-a605a819df10",
   "metadata": {},
   "source": [
    "Cette fois-ci utilise la lib 'stast' de 'scipy', par exemple : math_score et reading_score"
   ]
  },
  {
   "cell_type": "code",
   "execution_count": null,
   "id": "3801f46d-776c-45d9-b9c7-213abbd8e430",
   "metadata": {},
   "outputs": [],
   "source": []
  },
  {
   "cell_type": "markdown",
   "id": "b948c28b-47bf-40ee-8785-67c66af5ae14",
   "metadata": {},
   "source": [
    "Interprète les résultats :\n",
    "<ul>\n",
    "    <li>p-value is $<$ 0.001: we say there is strong evidence that the correlation is significant.</li>\n",
    "    <li>the p-value is $<$ 0.05: there is moderate evidence that the correlation is significant.</li>\n",
    "    <li>the p-value is $<$ 0.1: there is weak evidence that the correlation is significant.</li>\n",
    "    <li>the p-value is $>$ 0.1: there is no evidence that the correlation is significant.</li>\n",
    "</ul>"
   ]
  },
  {
   "cell_type": "markdown",
   "id": "b77a8663-383e-44cd-b5ef-07315e14719d",
   "metadata": {},
   "source": [
    "Vérifier cette relation également graphiquement, en utilisant la lib Pandas"
   ]
  },
  {
   "cell_type": "code",
   "execution_count": null,
   "id": "26ab2383-b358-4778-8f98-c22ce0887f6b",
   "metadata": {},
   "outputs": [],
   "source": []
  },
  {
   "cell_type": "markdown",
   "id": "c1e5cc52-d6a7-4d0b-ba7b-aaf9b43f40e4",
   "metadata": {},
   "source": [
    "## Table de contingence"
   ]
  },
  {
   "cell_type": "markdown",
   "id": "a1931f74-5f01-40ca-b450-dac1ca066e50",
   "metadata": {},
   "source": [
    "Utiliser la fonction crosstab avec les deux variables parents_education et test_prep_course pour afficher une table de contingence"
   ]
  },
  {
   "cell_type": "code",
   "execution_count": null,
   "id": "780e5928-75d4-4fb8-8883-c93ed5ffcc9c",
   "metadata": {},
   "outputs": [],
   "source": []
  },
  {
   "cell_type": "markdown",
   "id": "1436457e-5a7b-472c-b015-f1c75973b567",
   "metadata": {},
   "source": [
    "### Test du khi2"
   ]
  },
  {
   "cell_type": "markdown",
   "id": "9e1dadb9-17cd-4c89-b153-c682e21cdf39",
   "metadata": {},
   "source": [
    "Réaliser le test du khi2, afin de tester l'hypothère H0H0"
   ]
  },
  {
   "cell_type": "code",
   "execution_count": null,
   "id": "fdaf3033-b9b7-44e6-b121-c97d305ce3af",
   "metadata": {},
   "outputs": [],
   "source": [
    "\n"
   ]
  },
  {
   "cell_type": "markdown",
   "id": "1566ca86-303b-4f60-9723-3c0e743fbe4b",
   "metadata": {},
   "source": [
    "### V de Cramer"
   ]
  },
  {
   "cell_type": "markdown",
   "id": "dd51ec05-772b-44b6-a36a-bacbd6cf9717",
   "metadata": {},
   "source": [
    "Mesurer le niveau de corrélation entre deux variables qualitatives. Pour cela, utilise le V de Cramer corrigé pour contrer le biais."
   ]
  },
  {
   "cell_type": "markdown",
   "id": "3b290ce2-9002-4d14-b25c-fab61b24921e",
   "metadata": {},
   "source": [
    "Pour rappel, ci-dessous les formules de V de cramer corrigé :"
   ]
  },
  {
   "cell_type": "markdown",
   "id": "a9a99d6d-5935-4d7f-9efe-a5dfce803725",
   "metadata": {},
   "source": [
    "$\\tilde{V} = \\sqrt{\\frac{\\tilde{\\varphi}^2}{\\min(\\tilde{k}-1,\\tilde{r}-1)}\n",
    "}$"
   ]
  },
  {
   "cell_type": "markdown",
   "id": "40983381-c5ca-4259-8100-3b6b7ce1cef5",
   "metadata": {},
   "source": [
    "$\\tilde{\\varphi}^2 = \\max \\left(0, \\varphi^2 - \\frac{(k-1)(r-1)}{n-1}\\right)$"
   ]
  },
  {
   "cell_type": "markdown",
   "id": "6c988397-99cc-4026-a005-d2ed96c4aa9f",
   "metadata": {},
   "source": [
    "$\\tilde{k} = k - \\frac{(k-1)^2}{n-1}$"
   ]
  },
  {
   "cell_type": "markdown",
   "id": "555d7fd6-a27f-456e-8696-8ebb1630ed64",
   "metadata": {},
   "source": [
    "$\\tilde{r} = r - \\frac{(r-1)^2}{n-1}$"
   ]
  },
  {
   "cell_type": "code",
   "execution_count": null,
   "id": "293cc3fb-323a-4e0c-b74c-2475b12afa99",
   "metadata": {},
   "outputs": [],
   "source": [
    "\n"
   ]
  },
  {
   "cell_type": "code",
   "execution_count": null,
   "id": "c96fd68c-415d-4ca2-97e3-1a33d29f8867",
   "metadata": {},
   "outputs": [],
   "source": []
  },
  {
   "cell_type": "markdown",
   "id": "9872a5ad-ad64-417c-b5b4-f9851ed99be5",
   "metadata": {},
   "source": [
    "## ANOVA"
   ]
  },
  {
   "cell_type": "markdown",
   "id": "ef1a0eee-75be-4f54-abda-0b70a57a4065",
   "metadata": {},
   "source": [
    "L'analyse de la variance (ANOVA) est une méthode statistique permettant de tester l'existence de différences significatives entre les moyennes de deux groupes ou plus. L'ANOVA renvoie deux paramètres :\n",
    "- F-Score : l'ANOVA suppose que les moyennes de tous les groupes sont identiques, calcule l'écart des moyennes réelles par rapport à l'hypothèse et le rapporte sous la forme d'un score du test F. Plus ce score est élevé, plus l'écart est important. Plus le score est élevé, plus la différence entre les moyennes est importante.\n",
    "\n",
    "- P-Value indique dans quelle mesure la valeur calculée est statistiquement significative."
   ]
  },
  {
   "cell_type": "markdown",
   "id": "9566d120-4100-4437-b0f9-e0ee7595c982",
   "metadata": {},
   "source": [
    "Combien de valeurs uniques on a dans la colonne race/ethnicity ?"
   ]
  },
  {
   "cell_type": "code",
   "execution_count": null,
   "id": "50b4683f-070e-4df9-a7f4-983208de7f76",
   "metadata": {},
   "outputs": [
    {
     "data": {
      "text/plain": [
       "array(['group B', 'group C', 'group A', 'group D', 'group E'],\n",
       "      dtype=object)"
      ]
     },
     "execution_count": 51,
     "metadata": {},
     "output_type": "execute_result"
    }
   ],
   "source": []
  },
  {
   "cell_type": "markdown",
   "id": "6fee075f-ae28-4c4a-b84b-a418a066d8a8",
   "metadata": {},
   "source": [
    "Créer un nouveau DataFrame avec uniquement les colonnes 'race/ethnicity' et 'mean_score'. Groupe le DataFrame par race/ethnicity et tu peux obtenir les valeurs du groupe à l'aide de la méthode « get_group »."
   ]
  },
  {
   "cell_type": "code",
   "execution_count": null,
   "id": "7d0fb4c5-ee1e-4fa7-8554-d701f976393c",
   "metadata": {},
   "outputs": [],
   "source": []
  },
  {
   "cell_type": "markdown",
   "id": "8b5b8349-defd-4e47-828e-69f78059101c",
   "metadata": {},
   "source": [
    "Tu peux maintenant utiliser la fonction « f_oneway » du module « stats » pour obtenir le score du test F et la valeur P. Par exemple group B, groupe C et group A."
   ]
  },
  {
   "cell_type": "code",
   "execution_count": null,
   "id": "5fae833f-4ece-45e8-9c5b-ccdab86f4489",
   "metadata": {},
   "outputs": [],
   "source": []
  },
  {
   "cell_type": "markdown",
   "id": "e3614739-1c43-4edd-8723-44dcec5c6fff",
   "metadata": {},
   "source": [
    "Tu peux desormais tester d'autres combinaisons. Par exemple group B, groupe D et group E."
   ]
  },
  {
   "cell_type": "code",
   "execution_count": null,
   "id": "2ca1aaa0-193f-4810-8b83-20a21e8fb2fa",
   "metadata": {},
   "outputs": [],
   "source": []
  }
 ],
 "metadata": {
  "kernelspec": {
   "display_name": "data_analysis",
   "language": "python",
   "name": "data_analysis"
  },
  "language_info": {
   "codemirror_mode": {
    "name": "ipython",
    "version": 3
   },
   "file_extension": ".py",
   "mimetype": "text/x-python",
   "name": "python",
   "nbconvert_exporter": "python",
   "pygments_lexer": "ipython3",
   "version": "3.12.0"
  }
 },
 "nbformat": 4,
 "nbformat_minor": 5
}
