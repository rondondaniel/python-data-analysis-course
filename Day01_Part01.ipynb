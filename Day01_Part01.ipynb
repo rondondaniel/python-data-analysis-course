{
 "cells": [
  {
   "cell_type": "markdown",
   "id": "bc9986e8-b478-4a14-953a-b9451c89303e",
   "metadata": {},
   "source": [
    "# Introduction\n",
    "Ce notebook est une introduction à l'analyse de données avec Python. Nous allons explorer un jeu de données sur les performances des étudiants.\n",
    "\n",
    "## Prérequis\n",
    "- Python 3.12.0\n",
    "- Bibliothèque tabulate pour l'affichage des données\n",
    "\n",
    "## Objectifs\n",
    "- Importer et visualiser les données\n",
    "- Calculer des statistiques descriptives\n",
    "- Analyser les distributions des scores"
   ]
  },
  {
   "cell_type": "markdown",
   "id": "4706cb75",
   "metadata": {},
   "source": [
    "## Installation des dépendances\n",
    "Exécuter cette cellule pour installer la bibliothèque tabulate nécessaire pour l'affichage des données."
   ]
  },
  {
   "cell_type": "code",
   "execution_count": null,
   "id": "d788332c-c9ee-4996-a994-e8edfb15dd1c",
   "metadata": {},
   "outputs": [],
   "source": [
    "!pip install tabulate"
   ]
  },
  {
   "cell_type": "markdown",
   "id": "dfd3c7dc",
   "metadata": {},
   "source": [
    "### Importation des bibliothèques\n",
    "Exécuter cette cellule pour importer les bibliothèques nécessaires."
   ]
  },
  {
   "cell_type": "code",
   "execution_count": 77,
   "id": "83d94083-3cda-40df-81ee-0c750743519a",
   "metadata": {},
   "outputs": [],
   "source": [
    "import csv\n",
    "from tabulate import tabulate"
   ]
  },
  {
   "cell_type": "markdown",
   "id": "1f75a966",
   "metadata": {},
   "source": [
    "## Les données\n",
    "Cette cellule définit le chemin vers le fichier CSV contenant les données des étudiants."
   ]
  },
  {
   "cell_type": "code",
   "execution_count": 46,
   "id": "81920765-be29-4a15-8075-a12aa9845be0",
   "metadata": {},
   "outputs": [],
   "source": [
    "file = \"StudentsPerformance.csv\""
   ]
  },
  {
   "cell_type": "markdown",
   "id": "af84129e",
   "metadata": {},
   "source": [
    "### Fonction d'importation des données\n",
    "Cette fonction permet de lire et parser le fichier CSV."
   ]
  },
  {
   "cell_type": "code",
   "execution_count": null,
   "id": "1cbd83fe-4310-4f39-8a05-80e4b6f47c18",
   "metadata": {},
   "outputs": [],
   "source": []
  },
  {
   "cell_type": "markdown",
   "id": "02fee9e1",
   "metadata": {},
   "source": [
    "### Fonction d'affichage des données\n",
    "Cette fonction utilise tabulate pour afficher les données de manière formatée."
   ]
  },
  {
   "cell_type": "code",
   "execution_count": null,
   "id": "c0a5c5f6-b0fb-4f04-aeaa-be5a3d368d46",
   "metadata": {},
   "outputs": [],
   "source": []
  },
  {
   "cell_type": "markdown",
   "id": "a1b31f55",
   "metadata": {},
   "source": [
    "### Importation et stockage des données\n",
    "Exécuter cette cellule pour importer les données et les stocker dans les variables `data` et `headers`."
   ]
  },
  {
   "cell_type": "code",
   "execution_count": null,
   "id": "a50320b5-8b12-4878-93f8-d42048472328",
   "metadata": {},
   "outputs": [],
   "source": []
  },
  {
   "cell_type": "markdown",
   "id": "9c55949c",
   "metadata": {},
   "source": [
    "### Affichage des données\n",
    "Exécuter cette cellule pour afficher les données importées."
   ]
  },
  {
   "cell_type": "code",
   "execution_count": null,
   "id": "9edb2ccd-0273-4775-ad03-b2733c5ac91c",
   "metadata": {},
   "outputs": [],
   "source": []
  },
  {
   "cell_type": "markdown",
   "id": "0e322875",
   "metadata": {},
   "source": [
    "## Moyenne"
   ]
  },
  {
   "cell_type": "markdown",
   "id": "d0cf4dbb",
   "metadata": {},
   "source": [
    "### Fonction de calcul de la moyenne\n",
    "Cette fonction calcule la moyenne d'une liste de nombres."
   ]
  },
  {
   "cell_type": "code",
   "execution_count": null,
   "id": "08e3c295-381a-4ab4-9f18-44ec7abc9600",
   "metadata": {},
   "outputs": [],
   "source": []
  },
  {
   "cell_type": "markdown",
   "id": "e7aa7764",
   "metadata": {},
   "source": [
    "### Calcul des moyennes\n",
    "Cette cellule calcule les moyennes des notes pour chaque étudiant."
   ]
  },
  {
   "cell_type": "code",
   "execution_count": null,
   "id": "44b3febe-89c8-4111-bb70-cda57b6f2f87",
   "metadata": {},
   "outputs": [],
   "source": []
  },
  {
   "cell_type": "markdown",
   "id": "7854651c",
   "metadata": {},
   "source": [
    "### Définition des en-têtes\n",
    "Cette cellule définit les en-têtes pour l'affichage des moyennes des notes."
   ]
  },
  {
   "cell_type": "code",
   "execution_count": null,
   "id": "5c516c64-3bac-42c1-af99-27b7563bf44d",
   "metadata": {},
   "outputs": [],
   "source": []
  },
  {
   "cell_type": "markdown",
   "id": "ddc4e9ae",
   "metadata": {},
   "source": [
    "### Affichage des moyennes\n",
    "Exécuter cette cellule pour afficher les moyennes calculées."
   ]
  },
  {
   "cell_type": "code",
   "execution_count": null,
   "id": "8dc4be9a-d492-44f1-a214-64b3951cea9b",
   "metadata": {},
   "outputs": [],
   "source": []
  },
  {
   "cell_type": "markdown",
   "id": "9a38a7f0",
   "metadata": {},
   "source": [
    "## Médiane"
   ]
  },
  {
   "cell_type": "markdown",
   "id": "056bbcab",
   "metadata": {},
   "source": [
    "### Fonction de tri des données\n",
    "Cette fonction permet de trier une liste de nombres."
   ]
  },
  {
   "cell_type": "code",
   "execution_count": null,
   "id": "f70de1c0-de61-4c27-a981-f44125089022",
   "metadata": {},
   "outputs": [],
   "source": []
  },
  {
   "cell_type": "markdown",
   "id": "74ff36f3",
   "metadata": {},
   "source": [
    "### Executer pour calculer la médiane"
   ]
  },
  {
   "cell_type": "code",
   "execution_count": null,
   "id": "35c4bf4b-96d6-4df6-b59d-2b10ae4287bf",
   "metadata": {},
   "outputs": [],
   "source": []
  },
  {
   "cell_type": "code",
   "execution_count": null,
   "id": "c8b41801-acc9-4f7d-831b-f7e0521442a2",
   "metadata": {},
   "outputs": [],
   "source": []
  },
  {
   "cell_type": "code",
   "execution_count": null,
   "id": "1244e091-2143-44b2-ab0f-4c9c5609748f",
   "metadata": {},
   "outputs": [],
   "source": []
  },
  {
   "cell_type": "code",
   "execution_count": null,
   "id": "5d7ad5e8-95ab-42d2-852a-ffd654da0e51",
   "metadata": {},
   "outputs": [],
   "source": []
  },
  {
   "cell_type": "markdown",
   "id": "3d5704b7",
   "metadata": {},
   "source": [
    "### Calcul des quantiles\n",
    "Cette fonction calcule les quantiles Q1, Q2 et Q3."
   ]
  },
  {
   "cell_type": "code",
   "execution_count": null,
   "id": "3d432ab3-9606-43b6-bd76-98ade8dc2e29",
   "metadata": {},
   "outputs": [],
   "source": []
  },
  {
   "cell_type": "code",
   "execution_count": null,
   "id": "1e14cb18-5cfb-4a18-8868-0178614b103e",
   "metadata": {},
   "outputs": [],
   "source": []
  },
  {
   "cell_type": "markdown",
   "id": "ede02bc1",
   "metadata": {},
   "source": [
    "### Fonction de calcul des min et max\n",
    "Cette fonction trouve les valeurs minimales et maximales dans une liste."
   ]
  },
  {
   "cell_type": "code",
   "execution_count": null,
   "id": "5f4754bf-3898-43df-aa32-863b43dde74b",
   "metadata": {},
   "outputs": [],
   "source": []
  },
  {
   "cell_type": "code",
   "execution_count": null,
   "id": "f1dae6a4-29b4-47d6-8e03-023f4a30104b",
   "metadata": {},
   "outputs": [],
   "source": []
  },
  {
   "cell_type": "markdown",
   "id": "0c52a342",
   "metadata": {},
   "source": [
    "### Fonction de calcul de la variance\n",
    "Cette fonction calcule la variance d'une liste de nombres."
   ]
  },
  {
   "cell_type": "code",
   "execution_count": null,
   "id": "afba96c4-c97c-4f33-9842-90838a60a215",
   "metadata": {},
   "outputs": [],
   "source": []
  },
  {
   "cell_type": "markdown",
   "id": "8d63a557",
   "metadata": {},
   "source": [
    "### Fonction de calcul de l'écart-type\n",
    "Cette fonction calcule l'écart-type à partir de la variance."
   ]
  },
  {
   "cell_type": "code",
   "execution_count": null,
   "id": "24aed5f5-270b-4cdc-95b0-3b19574c083d",
   "metadata": {},
   "outputs": [],
   "source": []
  },
  {
   "cell_type": "markdown",
   "id": "f81d5afc",
   "metadata": {},
   "source": [
    "### Calcul de la variance\n",
    "Cette cellule calcule la variance des moyennes."
   ]
  },
  {
   "cell_type": "code",
   "execution_count": null,
   "id": "9c6d23df-7fc7-4d8c-9de9-7f46ff5831c3",
   "metadata": {},
   "outputs": [],
   "source": []
  },
  {
   "cell_type": "markdown",
   "id": "ec80afb3",
   "metadata": {},
   "source": [
    "### Calcul de l'écart-type\n",
    "Cette cellule calcule l'écart-type à partir de la variance."
   ]
  },
  {
   "cell_type": "code",
   "execution_count": null,
   "id": "c5aabd4c-2b88-4ffe-b805-31d7c19244dd",
   "metadata": {},
   "outputs": [],
   "source": []
  }
 ],
 "metadata": {
  "kernelspec": {
   "display_name": "data_analysis",
   "language": "python",
   "name": "data_analysis"
  },
  "language_info": {
   "codemirror_mode": {
    "name": "ipython",
    "version": 3
   },
   "file_extension": ".py",
   "mimetype": "text/x-python",
   "name": "python",
   "nbconvert_exporter": "python",
   "pygments_lexer": "ipython3",
   "version": "3.12.0"
  }
 },
 "nbformat": 4,
 "nbformat_minor": 5
}
