{
 "cells": [
  {
   "cell_type": "markdown",
   "metadata": {},
   "source": [
    "# Préparation des Données - Performance des Étudiants\n",
    "\n",
    "## Objectifs\n",
    "\n",
    "Après avoir complété ce notebook, vous serez capable de :\n",
    "\n",
    "- Gérer les valeurs manquantes dans les ensembles de données\n",
    "- Corriger les formats de données\n",
    "- Standardiser et normaliser les données\n",
    "- Créer des groupes à partir de variables continues\n",
    "- Générer des variables indicatrices à partir de données catégorielles en utilisant l'encodage one-hot"
   ]
  },
  {
   "cell_type": "markdown",
   "metadata": {},
   "source": [
    "## Table des Matières\n",
    "\n",
    "1. [Importation des Données et Bibliothèques](#import-data)\n",
    "2. [Exploration des Données](#data-exploration)\n",
    "3. [Gestion des Valeurs Manquantes](#missing-values)\n",
    "4. [Correction des Formats de Données](#data-formats)\n",
    "5. [Standardisation des Données](#standardization)\n",
    "6. [Normalisation des Données](#normalization)\n",
    "7. [Discrétisation des Données](#binning)\n",
    "8. [Encodage One-Hot (Variables Indicatrices/Variables Dummy)](#indicator-variables)\n",
    "9. [Exportation des Données Nettoyées](#export-data)"
   ]
  },
  {
   "cell_type": "markdown",
   "metadata": {},
   "source": [
    "<a id=\"import-data\"></a>\n",
    "## 1. Importation des Données et Bibliothèques"
   ]
  },
  {
   "cell_type": "code",
   "execution_count": null,
   "metadata": {},
   "outputs": [],
   "source": [
    "# Importation des bibliothèques nécessaires\n",
    "import pandas as pd\n",
    "import numpy as np\n",
    "import matplotlib.pyplot as plt\n",
    "import seaborn as sns\n",
    "\n",
    "# Configuration du style de visualisation\n",
    "sns.set_theme(style=\"whitegrid\")\n",
    "%matplotlib inline"
   ]
  },
  {
   "cell_type": "code",
   "execution_count": null,
   "metadata": {},
   "outputs": [],
   "source": [
    "# Lecture du jeu de données\n",
    "file_path = \"StudentsPerformance.csv\"\n",
    "df = pd.read_csv(file_path)\n",
    "\n",
    "# Affichage des premières lignes du jeu de données\n",
    "df.head()"
   ]
  },
  {
   "cell_type": "markdown",
   "metadata": {},
   "source": [
    "<a id=\"data-exploration\"></a>\n",
    "## 2. Exploration des Données\n",
    "\n",
    "Avant de commencer le nettoyage et la préparation de nos données, comprenons d'abord ce avec quoi nous travaillons."
   ]
  },
  {
   "cell_type": "code",
   "execution_count": null,
   "metadata": {},
   "outputs": [],
   "source": [
    "# Obtenir des informations de base sur le jeu de données, statistiques, doublons, etc."
   ]
  },
  {
   "cell_type": "markdown",
   "metadata": {},
   "source": [
    "Explorons les variables catégorielles dans notre jeu de données :"
   ]
  },
  {
   "cell_type": "code",
   "execution_count": null,
   "metadata": {},
   "outputs": [],
   "source": [
    "# Vérifier les valeurs uniques dans chaque colonne catégorielle\n"
   ]
  },
  {
   "cell_type": "markdown",
   "metadata": {},
   "source": [
    "<a id=\"missing-values\"></a>\n",
    "## 3. Gestion des Valeurs Manquantes\n",
    "\n",
    "Vérifions s'il y a des valeurs manquantes dans notre jeu de données et traitons-les de manière appropriée."
   ]
  },
  {
   "cell_type": "code",
   "execution_count": null,
   "metadata": {},
   "outputs": [],
   "source": []
  },
  {
   "cell_type": "markdown",
   "metadata": {},
   "source": [
    "Si nous trouvons des valeurs manquantes, nous pouvons les traiter en utilisant différentes méthodes :\n",
    "\n",
    "1. **Supprimer les lignes avec des valeurs manquantes**\n",
    "2. **Remplacer les valeurs manquantes par la moyenne, la médiane ou le mode**\n",
    "3. **Remplacer les valeurs manquantes selon une stratégie spécifique**\n",
    "\n",
    "Mettons en œuvre ces stratégies selon les besoins :"
   ]
  },
  {
   "cell_type": "code",
   "execution_count": null,
   "metadata": {},
   "outputs": [],
   "source": [
    "# Exemple: S'il y avait des valeurs manquantes dans les colonnes numériques, nous pourrions les remplacer par la moyenne\n"
   ]
  },
  {
   "cell_type": "code",
   "execution_count": null,
   "metadata": {},
   "outputs": [],
   "source": [
    "# Exemple: S'il y avait des valeurs manquantes dans les colonnes catégorielles, nous pourrions les remplacer par le mode\n"
   ]
  },
  {
   "cell_type": "markdown",
   "metadata": {},
   "source": [
    "<a id=\"data-formats\"></a>\n",
    "## 4. Correction des Formats de Données\n",
    "\n",
    "Vérifions les types de données de nos colonnes et assurons-nous qu'ils sont au format correct."
   ]
  },
  {
   "cell_type": "code",
   "execution_count": null,
   "metadata": {},
   "outputs": [],
   "source": [
    "# Vérifier les types de données\n"
   ]
  },
  {
   "cell_type": "code",
   "execution_count": null,
   "metadata": {},
   "outputs": [],
   "source": [
    "# Convertir les types de données si nécessaire\n",
    "# Par exemple, s'assurer que les colonnes numériques sont du type correct\n"
   ]
  },
  {
   "cell_type": "markdown",
   "metadata": {},
   "source": [
    "<a id=\"standardization\"></a>\n",
    "## 5. Standardisation des Données\n",
    "\n",
    "La standardisation des données est le processus de transformation des données en un format commun qui permet une comparaison significative."
   ]
  },
  {
   "cell_type": "code",
   "execution_count": null,
   "metadata": {},
   "outputs": [],
   "source": [
    "# On peut créer une nouvelle feature : score moyen par exemple\n"
   ]
  },
  {
   "cell_type": "code",
   "execution_count": null,
   "metadata": {},
   "outputs": [],
   "source": [
    "# Créer une colonne réussite/échec basée sur le score moyen (exemple de standardisation)\n",
    "# En supposant que 60 est le score de passage\n"
   ]
  },
  {
   "cell_type": "markdown",
   "metadata": {},
   "source": [
    "<a id=\"normalization\"></a>\n",
    "## 6. Normalisation des Données\n",
    "\n",
    "La normalisation est le processus de transformation des valeurs de plusieurs variables dans une plage similaire. Les techniques courantes de normalisation comprennent :\n",
    "\n",
    "1. **Mise à l'échelle Min-Max** : Met les valeurs à l'échelle dans une plage fixe de 0 à 1\n",
    "2. **Normalisation Z-score** : Standardise les valeurs en fonction de la moyenne et de l'écart-type\n",
    "\n",
    "Appliquons ces techniques à nos données numériques :"
   ]
  },
  {
   "cell_type": "code",
   "execution_count": null,
   "metadata": {},
   "outputs": [],
   "source": [
    "# Mise à l'échelle Min-Max\n"
   ]
  },
  {
   "cell_type": "code",
   "execution_count": null,
   "metadata": {},
   "outputs": [],
   "source": [
    "# Normalisation Z-score\n"
   ]
  },
  {
   "cell_type": "markdown",
   "metadata": {},
   "source": [
    "Visualisons la distribution des scores originaux et normalisés :"
   ]
  },
  {
   "cell_type": "code",
   "execution_count": null,
   "metadata": {},
   "outputs": [],
   "source": [
    "# Visualisation des données originales vs normalisées pour le score en mathématiques\n",
    "plt.figure(figsize=(15, 5))\n",
    "\n",
    "plt.subplot(1, 3, 1)\n",
    "sns.histplot(df['math_score'], kde=True)\n",
    "plt.title('Scores Mathématiques Originaux')\n",
    "\n",
    "plt.subplot(1, 3, 2)\n",
    "sns.histplot(df['math_score_normalized'], kde=True)\n",
    "plt.title('Scores Mathématiques Normalisés Min-Max')\n",
    "\n",
    "plt.subplot(1, 3, 3)\n",
    "sns.histplot(df['math_score_standardized'], kde=True)\n",
    "plt.title('Scores Mathématiques Standardisés Z-Score')\n",
    "\n",
    "plt.tight_layout()\n",
    "plt.show()"
   ]
  },
  {
   "cell_type": "markdown",
   "metadata": {},
   "source": [
    "<a id=\"binning\"></a>\n",
    "## 7. Discrétisation\n",
    "\n",
    "La discrétisation est un processus de transformation des variables numériques continues en 'bins' catégoriels discrets pour une analyse groupée."
   ]
  },
  {
   "cell_type": "code",
   "execution_count": null,
   "metadata": {},
   "outputs": [],
   "source": [
    "# Discrétisation des scores mathématiques en catégories\n"
   ]
  },
  {
   "cell_type": "code",
   "execution_count": null,
   "metadata": {},
   "outputs": [],
   "source": [
    "# Compter le nombre d'étudiants dans chaque groupe\n"
   ]
  },
  {
   "cell_type": "code",
   "execution_count": null,
   "metadata": {},
   "outputs": [],
   "source": [
    "# Visualiser les données regroupées\n",
    "plt.figure(figsize=(10, 6))\n",
    "sns.countplot(x='math_score_category', data=df, palette='viridis')\n",
    "plt.title('Distribution des Catégories de Scores en Mathématiques')\n",
    "plt.xlabel('Catégorie de Score en Mathématiques')\n",
    "plt.ylabel('Effectif')\n",
    "plt.show()"
   ]
  },
  {
   "cell_type": "markdown",
   "metadata": {},
   "source": [
    "<a id=\"indicator-variables\"></a>\n",
    "## 8. Encodage One-Hot (Variables Indicatrices/Variables Dummy)\n",
    "\n",
    "L'encodage one-hot crée des colonnes binaires (0 ou 1) pour chaque catégorie dans les variables catégorielles. Ces variables sont également connues sous le nom de variables indicatrices ou variables dummy. Cette technique est essentielle pour inclure des données catégorielles dans des modèles statistiques qui nécessitent des entrées numériques."
   ]
  },
  {
   "cell_type": "code",
   "execution_count": null,
   "metadata": {},
   "outputs": [],
   "source": [
    "# Créer des variables dummy pour le genre en utilisant l'encodage one-hot\n"
   ]
  },
  {
   "cell_type": "code",
   "execution_count": null,
   "metadata": {},
   "outputs": [],
   "source": [
    "# Créer des variables dummy pour la race/ethnicité en utilisant l'encodage one-hot\n"
   ]
  },
  {
   "cell_type": "code",
   "execution_count": null,
   "metadata": {},
   "outputs": [],
   "source": [
    "# Créer des variables dummy pour le cours de préparation aux tests en utilisant l'encodage one-hot\n"
   ]
  },
  {
   "cell_type": "code",
   "execution_count": null,
   "metadata": {},
   "outputs": [],
   "source": [
    "# Fusionner les variables dummy avec le dataframe original\n"
   ]
  },
  {
   "cell_type": "markdown",
   "metadata": {},
   "source": [
    "Nous pouvons supprimer les colonnes catégorielles d'origine si nous voulons ne conserver que les variables dummy :"
   ]
  },
  {
   "cell_type": "code",
   "execution_count": null,
   "metadata": {},
   "outputs": [],
   "source": [
    "# Créer une copie du dataframe pour cet exemple\n"
   ]
  },
  {
   "cell_type": "markdown",
   "metadata": {},
   "source": [
    "<a id=\"export-data\"></a>\n",
    "## 9. Exportation des Données Nettoyées\n",
    "\n",
    "Maintenant que nous avons nettoyé et transformé nos données, nous pouvons les exporter pour une analyse ultérieure."
   ]
  },
  {
   "cell_type": "code",
   "execution_count": null,
   "metadata": {},
   "outputs": [],
   "source": [
    "# Exporter le dataframe original avec les fonctionnalités ajoutées\n",
    "df.to_csv('cleaned_students_performance_fr.csv', index=False)\n",
    "\n",
    "# Exporter le dataframe avec les variables dummy\n",
    "df_with_dummies.to_csv('students_performance_with_dummies_fr.csv', index=False)\n",
    "\n",
    "# Exporter le dataframe entièrement encodé\n",
    "df_encoded.to_csv('students_performance_encoded_fr.csv', index=False)\n",
    "\n",
    "print(\"Données exportées avec succès !\")"
   ]
  },
  {
   "cell_type": "markdown",
   "metadata": {},
   "source": [
    "## Résumé\n",
    "\n",
    "Dans ce notebook, nous avons :\n",
    "\n",
    "1. Importé et exploré le jeu de données de performance des étudiants\n",
    "2. Vérifié et traité les valeurs manquantes\n",
    "3. Corrigé les formats de données\n",
    "4. Standardisé les données en créant de nouvelles fonctionnalités\n",
    "5. Normalisé les données numériques en utilisant la mise à l'échelle min-max et la standardisation z-score\n",
    "6. Créé des groupes pour les variables continues\n",
    "7. Généré des variables indicatrices pour les données catégorielles en utilisant l'encodage one-hot\n",
    "8. Exporté les données nettoyées et transformées pour une analyse ultérieure\n",
    "\n",
    "Ces techniques de préparation de données sont essentielles pour préparer les données brutes à l'analyse et à la modélisation."
   ]
  }
 ],
 "metadata": {
  "kernelspec": {
   "display_name": "Python 3",
   "language": "python",
   "name": "python3"
  },
  "language_info": {
   "codemirror_mode": {
    "name": "ipython",
    "version": 3
   },
   "file_extension": ".py",
   "mimetype": "text/x-python",
   "name": "python",
   "nbconvert_exporter": "python",
   "pygments_lexer": "ipython3",
   "version": "3.8.8"
  }
 },
 "nbformat": 4,
 "nbformat_minor": 2
}
